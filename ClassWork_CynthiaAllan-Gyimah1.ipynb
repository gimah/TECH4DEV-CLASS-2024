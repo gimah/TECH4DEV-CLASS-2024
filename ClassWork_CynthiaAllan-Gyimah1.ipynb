{
 "cells": [
  {
   "cell_type": "raw",
   "id": "d48e3ab3",
   "metadata": {},
   "source": [
    "1.   Print the First 10 natural numbers"
   ]
  },
  {
   "cell_type": "code",
   "execution_count": 1,
   "id": "e8c0e262",
   "metadata": {},
   "outputs": [
    {
     "name": "stdout",
     "output_type": "stream",
     "text": [
      "1,2,3,4,5,6,7,8,9,10,"
     ]
    }
   ],
   "source": [
    "for i in range(1,11):\n",
    "    print(i, end=',')"
   ]
  },
  {
   "cell_type": "raw",
   "id": "1f387e4b",
   "metadata": {},
   "source": [
    "2.   print(\"====The First 10 Natural Numbers====\")"
   ]
  },
  {
   "cell_type": "code",
   "execution_count": 2,
   "id": "3f845215",
   "metadata": {},
   "outputs": [
    {
     "name": "stdout",
     "output_type": "stream",
     "text": [
      "====The First 10 Natural Numbers====\n",
      "The natural numbers are :1\n",
      "The natural numbers are :2\n",
      "The natural numbers are :3\n",
      "The natural numbers are :4\n",
      "The natural numbers are :5\n",
      "The natural numbers are :6\n",
      "The natural numbers are :7\n",
      "The natural numbers are :8\n",
      "The natural numbers are :9\n",
      "The natural numbers are :10\n"
     ]
    }
   ],
   "source": [
    "print(\"====The First 10 Natural Numbers====\")\n",
    "\n",
    "# printing the first 10 natural numbers \n",
    "\n",
    "for i in range(1,11):\n",
    "    print(f'The natural numbers are :{i}')"
   ]
  },
  {
   "cell_type": "raw",
   "id": "9d926cae",
   "metadata": {},
   "source": [
    "3. Count the total number of digits in a number"
   ]
  },
  {
   "cell_type": "code",
   "execution_count": 3,
   "id": "8fbbcd36",
   "metadata": {},
   "outputs": [
    {
     "name": "stdout",
     "output_type": "stream",
     "text": [
      "Enter the number: 234\n",
      "Total number of digit  3\n"
     ]
    }
   ],
   "source": [
    "num1=int(input('Enter the number: '))\n",
    "\n",
    "count = 0\n",
    "\n",
    "while num1 > 0:\n",
    "    num1//=10\n",
    "    \n",
    "    count += 1\n",
    "print('Total number of digit ', count)"
   ]
  },
  {
   "cell_type": "raw",
   "id": "844fc1dc",
   "metadata": {},
   "source": [
    "4.\tWrite a program to display all prime numbers within a range"
   ]
  },
  {
   "cell_type": "code",
   "execution_count": 4,
   "id": "91baaf81",
   "metadata": {},
   "outputs": [],
   "source": [
    "def is_prime(num):\n",
    "    if num < 2:\n",
    "        return False\n",
    "    for i in range(2, int(num**0.5) + 1):\n",
    "        if num % i == 0:\n",
    "            return False\n",
    "    return True\n",
    "\n",
    "def display_primes(lower, upper):\n",
    "    print(f\"Prime numbers between {lower} and {upper}:\")\n",
    "    for num in range(lower, upper + 1):\n",
    "        if is_prime(num):\n",
    "            print(num, end=\" \")\n"
   ]
  },
  {
   "cell_type": "code",
   "execution_count": 5,
   "id": "2143796a",
   "metadata": {},
   "outputs": [
    {
     "name": "stdout",
     "output_type": "stream",
     "text": [
      "Prime numbers between 10 and 50:\n",
      "11 13 17 19 23 29 31 37 41 43 47 "
     ]
    }
   ],
   "source": [
    "lower_limit = 10\n",
    "upper_limit = 50\n",
    "display_primes(lower_limit, upper_limit)"
   ]
  },
  {
   "cell_type": "code",
   "execution_count": 6,
   "id": "eb96ddb2",
   "metadata": {},
   "outputs": [
    {
     "name": "stdout",
     "output_type": "stream",
     "text": [
      "11\n",
      "13\n",
      "17\n",
      "19\n",
      "23\n",
      "29\n",
      "31\n",
      "37\n",
      "41\n",
      "43\n",
      "47\n"
     ]
    }
   ],
   "source": [
    "start = 10\n",
    "end = 50\n",
    "\n",
    "for num in range(start, end + 1):\n",
    "    if num > 1: # all prime #s are greater than 1\n",
    "        for i in range(2,num):\n",
    "            if (num % i) == 0:\n",
    "                break\n",
    "        else:\n",
    "            print(num)"
   ]
  },
  {
   "cell_type": "raw",
   "id": "c8aca5c9",
   "metadata": {},
   "source": [
    "5. \tWrite a program to print a multiplication table of a given number"
   ]
  },
  {
   "cell_type": "code",
   "execution_count": 7,
   "id": "cc34f00f",
   "metadata": {},
   "outputs": [
    {
     "name": "stdout",
     "output_type": "stream",
     "text": [
      "Enter the number for the multiplication table: 3\n",
      "Enter the number of rows for the multiplication table: 12\n",
      "3 * 1 = 3\n",
      "3 * 2 = 6\n",
      "3 * 3 = 9\n",
      "3 * 4 = 12\n",
      "3 * 5 = 15\n",
      "3 * 6 = 18\n",
      "3 * 7 = 21\n",
      "3 * 8 = 24\n",
      "3 * 9 = 27\n",
      "3 * 10 = 30\n",
      "3 * 11 = 33\n",
      "3 * 12 = 36\n"
     ]
    }
   ],
   "source": [
    "x = int(input(\"Enter the number for the multiplication table: \"))\n",
    "y = int(input(\"Enter the number of rows for the multiplication table: \"))\n",
    "\n",
    "for i in range(1, y + 1):\n",
    "    result = x * i\n",
    "    print(f\"{x} * {i} = {result}\")\n",
    "    if i >= 20:\n",
    "        print(\"The number of rows has been limited to 20.\")\n",
    "        break\n",
    "else:\n",
    "    if y > 20:\n",
    "        print(\"The number of rows has been limited to 20.\")"
   ]
  },
  {
   "cell_type": "code",
   "execution_count": null,
   "id": "37cddef6",
   "metadata": {},
   "outputs": [],
   "source": []
  },
  {
   "cell_type": "code",
   "execution_count": null,
   "id": "5e7d792b",
   "metadata": {},
   "outputs": [],
   "source": []
  }
 ],
 "metadata": {
  "hide_input": false,
  "kernelspec": {
   "display_name": "Python 3 (ipykernel)",
   "language": "python",
   "name": "python3"
  },
  "language_info": {
   "codemirror_mode": {
    "name": "ipython",
    "version": 3
   },
   "file_extension": ".py",
   "mimetype": "text/x-python",
   "name": "python",
   "nbconvert_exporter": "python",
   "pygments_lexer": "ipython3",
   "version": "3.7.8"
  },
  "toc": {
   "base_numbering": 1,
   "nav_menu": {},
   "number_sections": true,
   "sideBar": true,
   "skip_h1_title": false,
   "title_cell": "Table of Contents",
   "title_sidebar": "Contents",
   "toc_cell": false,
   "toc_position": {},
   "toc_section_display": true,
   "toc_window_display": false
  }
 },
 "nbformat": 4,
 "nbformat_minor": 5
}
