{
 "cells": [
  {
   "cell_type": "raw",
   "id": "cefb80fb",
   "metadata": {},
   "source": [
    "1.  Write a program to produce the following output using for loop\n",
    "\n",
    "     +----+\n",
    "      \\  /\n",
    "\t  /  \\\n",
    "\t  \\  /\n",
    "      /  \\\n",
    "      \\  /\n",
    "      /  \\\n",
    "     +----+\n"
   ]
  },
  {
   "cell_type": "code",
   "execution_count": 1,
   "id": "eba72b6e",
   "metadata": {},
   "outputs": [
    {
     "name": "stdout",
     "output_type": "stream",
     "text": [
      "+ ---- +\n",
      "\\     /\n",
      "/     \\\n",
      "\\     /\n",
      "/     \\\n",
      "\\     /\n",
      "/     \\\n",
      "+ ---- +\n"
     ]
    }
   ],
   "source": [
    "print(\"+\",\"-\"*4,\"+\")\n",
    "for _ in range(3):\n",
    "    \n",
    "    print(\"\\\\     /\")\n",
    "    print(\"/     \\\\\")\n",
    "\n",
    "\n",
    "print(\"+\",\"-\"*4,\"+\")"
   ]
  },
  {
   "cell_type": "code",
   "execution_count": null,
   "id": "cdd86db1",
   "metadata": {},
   "outputs": [],
   "source": []
  },
  {
   "cell_type": "raw",
   "id": "672842fe",
   "metadata": {},
   "source": [
    "2.  Write a program to produce the following output using for loop\n",
    "\t**********\n",
    "    **********\n",
    "    **********\n",
    "    **********\n",
    "    **********"
   ]
  },
  {
   "cell_type": "code",
   "execution_count": 2,
   "id": "dec96f19",
   "metadata": {},
   "outputs": [
    {
     "name": "stdout",
     "output_type": "stream",
     "text": [
      "Enter the number of rows: 5\n",
      "Enter the number of coloums: 10\n",
      "**********\n",
      "**********\n",
      "**********\n",
      "**********\n",
      "**********\n"
     ]
    }
   ],
   "source": [
    "n = int(input('Enter the number of rows: '))\n",
    "m = int(input('Enter the number of coloums: '))\n",
    "for i in range(n):\n",
    "    for j in range(m):\n",
    "        print('*',end='')\n",
    "    print()"
   ]
  },
  {
   "cell_type": "code",
   "execution_count": null,
   "id": "7fb2eed9",
   "metadata": {},
   "outputs": [],
   "source": []
  },
  {
   "cell_type": "raw",
   "id": "59599f86",
   "metadata": {},
   "source": [
    "3. Complete the code for the following for loop:\n",
    "   for in range(1,7):\n",
    "   //your code here\n",
    "   so that it prints the following numbers, one per line:\n",
    "     "
   ]
  },
  {
   "cell_type": "code",
   "execution_count": 3,
   "id": "d7131a8f",
   "metadata": {},
   "outputs": [
    {
     "name": "stdout",
     "output_type": "stream",
     "text": [
      "1\n",
      "2\n",
      "3\n",
      "4\n",
      "5\n",
      "6\n"
     ]
    }
   ],
   "source": [
    "for i in range(1,7):\n",
    "    print(i)"
   ]
  },
  {
   "cell_type": "code",
   "execution_count": 4,
   "id": "16e9f5f4",
   "metadata": {},
   "outputs": [
    {
     "name": "stdout",
     "output_type": "stream",
     "text": [
      "2\n",
      "4\n",
      "6\n",
      "8\n",
      "10\n",
      "12\n"
     ]
    }
   ],
   "source": [
    "for i in range(1,7):\n",
    "    print(i*2)"
   ]
  },
  {
   "cell_type": "code",
   "execution_count": 5,
   "id": "39058b52",
   "metadata": {},
   "outputs": [
    {
     "name": "stdout",
     "output_type": "stream",
     "text": [
      "4\n",
      "19\n",
      "34\n",
      "49\n",
      "64\n",
      "79\n"
     ]
    }
   ],
   "source": [
    "for i in range(1,7):\n",
    "    print( 15 * i - 11)"
   ]
  },
  {
   "cell_type": "code",
   "execution_count": 6,
   "id": "efb58bae",
   "metadata": {},
   "outputs": [
    {
     "name": "stdout",
     "output_type": "stream",
     "text": [
      "30\n",
      "20\n",
      "10\n",
      "0\n",
      "-10\n",
      "-20\n"
     ]
    }
   ],
   "source": [
    "for i in range(1, 7):\n",
    "    print(-10*i+40)"
   ]
  },
  {
   "cell_type": "code",
   "execution_count": 7,
   "id": "2c4db525",
   "metadata": {},
   "outputs": [
    {
     "name": "stdout",
     "output_type": "stream",
     "text": [
      "-7\n",
      "-3\n",
      "1\n",
      "5\n",
      "9\n",
      "13\n"
     ]
    }
   ],
   "source": [
    "for i in range(1, 7):\n",
    "    print(4*i-11)"
   ]
  },
  {
   "cell_type": "code",
   "execution_count": 8,
   "id": "833c402b",
   "metadata": {},
   "outputs": [
    {
     "name": "stdout",
     "output_type": "stream",
     "text": [
      "97\n",
      "94\n",
      "91\n",
      "88\n",
      "85\n",
      "82\n"
     ]
    }
   ],
   "source": [
    "for i in range(1, 7):\n",
    "    print(-3* i + 100)"
   ]
  },
  {
   "cell_type": "code",
   "execution_count": 9,
   "id": "666cf1fc",
   "metadata": {
    "scrolled": true
   },
   "outputs": [
    {
     "data": {
      "text/plain": [
       "[-4, 14, 32, 50, 68, 86]"
      ]
     },
     "execution_count": 9,
     "metadata": {},
     "output_type": "execute_result"
    }
   ],
   "source": [
    "result = [(i * 18) - 22 for i in range(1, 7)]\n",
    "result"
   ]
  },
  {
   "cell_type": "code",
   "execution_count": 10,
   "id": "95ad545e",
   "metadata": {},
   "outputs": [
    {
     "name": "stdout",
     "output_type": "stream",
     "text": [
      "-4\n",
      "14\n",
      "32\n",
      "50\n",
      "68\n",
      "86\n"
     ]
    }
   ],
   "source": [
    "for i in range(1, 7):\n",
    "    print(18 * i - 22)"
   ]
  },
  {
   "cell_type": "raw",
   "id": "7c0cae7b",
   "metadata": {},
   "source": [
    "4. Write a program to produce the following output using for loops. Then use a class constant to make it possible to change the   number of lines in the figure.\n",
    "\n",
    "1\n",
    "22\n",
    "333\n",
    "4444\n",
    "55555\n",
    "666666\n",
    "7777777"
   ]
  },
  {
   "cell_type": "code",
   "execution_count": 11,
   "id": "7726b825",
   "metadata": {},
   "outputs": [
    {
     "name": "stdout",
     "output_type": "stream",
     "text": [
      "Enter the number of rows: 7\n",
      "1\n",
      "22\n",
      "333\n",
      "4444\n",
      "55555\n",
      "666666\n",
      "7777777\n"
     ]
    }
   ],
   "source": [
    "n = int(input('Enter the number of rows: '))\n",
    "\n",
    "for i in range(1,n+1):\n",
    "    for j in range(1,1+i):\n",
    "        print(i , end='')\n",
    "    print()"
   ]
  },
  {
   "cell_type": "raw",
   "id": "959ba558",
   "metadata": {},
   "source": [
    "5. Write a method named pay that accepts two parameters: a real number for a TA's salary, and an integer for the number of hours    the TA worked this week. The method should return how much money to pay the TA. For example, the call\n",
    "   pay(5.50, 6)\n",
    "   should return 33.0.\n",
    "   The TA should receive \"overtime\" pay of 1 ½ normal salary for any hours above 8. For example, the call pay(4.00, 11) should      return (4.00 * 8) + (6.00 * 3) or 50.0."
   ]
  },
  {
   "cell_type": "code",
   "execution_count": 12,
   "id": "e1c7f2ff",
   "metadata": {},
   "outputs": [],
   "source": [
    "def pay(salary, hours):\n",
    "    # salary worked for the time of eight hours\n",
    "    if hours <= 8:\n",
    "            total_salary = salary * hours\n",
    "            print(total_salary)\n",
    "    else: \n",
    "            over_time_pay = 1.5 * salary * (hours - 8)\n",
    "            total_pay = (salary * hours) + over_time_pay\n"
   ]
  },
  {
   "cell_type": "code",
   "execution_count": 15,
   "id": "87bb3ec9",
   "metadata": {},
   "outputs": [
    {
     "name": "stdout",
     "output_type": "stream",
     "text": [
      "33.0\n"
     ]
    }
   ],
   "source": [
    "pay(5.50, 6)"
   ]
  },
  {
   "cell_type": "raw",
   "id": "efcf90b2",
   "metadata": {},
   "source": [
    "6. Consider the following method for converting milliseconds into days:\n",
    "// converts milliseconds to days\n",
    "def toDays(millis):\n",
    "return millis / 1000.0 / 60.0 / 60.0 / 24.0\n",
    "Write a similar method named area that takes as a parameter the radius of a circle and that returns the area of the circle. For example, the call\n",
    "area(2.0);\n",
    "should return\n",
    "12.566370614359172.\n",
    "Recall that area can be computed as π times the radius squared and that Python has a constant called math.pi"
   ]
  },
  {
   "cell_type": "code",
   "execution_count": 13,
   "id": "a9d13c53",
   "metadata": {},
   "outputs": [],
   "source": [
    "import math\n",
    "def area(radius):\n",
    "    A = (radius**2)* math.pi\n",
    "    print(A)"
   ]
  },
  {
   "cell_type": "code",
   "execution_count": 14,
   "id": "56cb575b",
   "metadata": {
    "scrolled": true
   },
   "outputs": [
    {
     "name": "stdout",
     "output_type": "stream",
     "text": [
      "12.566370614359172\n"
     ]
    }
   ],
   "source": [
    "area(2)"
   ]
  },
  {
   "cell_type": "raw",
   "id": "44461809",
   "metadata": {},
   "source": [
    "7.\tCopy and paste the following code into pythons IDLE script environment.\n",
    "low = 1\n",
    "high = 1001\n",
    "sum = 0\n",
    "for i in range(low,high):\n",
    "sum += i\n",
    "print(\"sum = \" , sum)\n",
    "Modify the code to use a input to prompt the user for the values of low and high. Below is a sample execution in which the user asks for the same values as in the original program (1 through 1000):\n",
    "low= 1\n",
    "high= 1001\n",
    "sum = 500500\n",
    "Below is an execution with different values for low and high:\n",
    "low= 300\n",
    "high= 5298\n",
    "sum = 13986903\n",
    "You should exactly reproduce this format."
   ]
  },
  {
   "cell_type": "code",
   "execution_count": 16,
   "id": "c24c6bba",
   "metadata": {},
   "outputs": [
    {
     "name": "stdout",
     "output_type": "stream",
     "text": [
      "sum =  500500\n"
     ]
    }
   ],
   "source": [
    "low = 1\n",
    "high = 1001\n",
    "sum = 0\n",
    "for i in range(low, high):\n",
    "    sum += i\n",
    "print(\"sum = \", sum)\n"
   ]
  },
  {
   "cell_type": "code",
   "execution_count": 17,
   "id": "59d35f72",
   "metadata": {},
   "outputs": [
    {
     "name": "stdout",
     "output_type": "stream",
     "text": [
      "sum =  1001000\n"
     ]
    }
   ],
   "source": [
    "low = 1\n",
    "high = 1001\n",
    "sum = 500500\n",
    "for i in range(low, high):\n",
    "    sum += i\n",
    "print(\"sum = \", sum)\n"
   ]
  },
  {
   "cell_type": "code",
   "execution_count": 18,
   "id": "a1b2660f",
   "metadata": {},
   "outputs": [
    {
     "name": "stdout",
     "output_type": "stream",
     "text": [
      "sum =  27973806\n"
     ]
    }
   ],
   "source": [
    "low = 300\n",
    "high = 5298\n",
    "sum = 13986903\n",
    "for i in range(low, high):\n",
    "    sum += i\n",
    "print(\"sum = \", sum)"
   ]
  },
  {
   "cell_type": "raw",
   "id": "b5327aa4",
   "metadata": {},
   "source": [
    "8. Write a program using while loop that prompts the user for numbers until the user types 0, then outputs their sum."
   ]
  },
  {
   "cell_type": "code",
   "execution_count": 19,
   "id": "203201c7",
   "metadata": {},
   "outputs": [
    {
     "name": "stdout",
     "output_type": "stream",
     "text": [
      "Enter a number: 5\n",
      "Enter a number: 4\n",
      "Enter a number: 3\n",
      "Enter a number: 0\n",
      "Total number 12\n"
     ]
    }
   ],
   "source": [
    "total_no = 0\n",
    "\n",
    "while True:\n",
    "    userType = int(input('Enter a number: '))\n",
    "    \n",
    "    if userType == 0:\n",
    "        break\n",
    "    total_no += userType\n",
    "print(f'Total number {total_no}')"
   ]
  },
  {
   "cell_type": "raw",
   "id": "264bed68",
   "metadata": {},
   "source": [
    "9. Write a program using while loop that prompts the user for numbers until the user types -1, then outputs their sum."
   ]
  },
  {
   "cell_type": "code",
   "execution_count": 20,
   "id": "713df717",
   "metadata": {},
   "outputs": [
    {
     "name": "stdout",
     "output_type": "stream",
     "text": [
      "Enter a number: -1\n",
      "Total sum is: 0\n"
     ]
    }
   ],
   "source": [
    "total_sum = 0\n",
    "\n",
    "while True:\n",
    "    number = int(input('Enter a number: '))\n",
    "    # until userype -1 to quit\n",
    "    if number == -1:\n",
    "        break\n",
    "    total_sum += number\n",
    "print(f'Total sum is: {total_sum}')"
   ]
  },
  {
   "cell_type": "raw",
   "id": "b7058225",
   "metadata": {},
   "source": [
    "10. Write a method named repl that accepts a String and a number of repetitions as parameters and returns the String concatenated that many times. For example, the call repl(\"hello\", 3) returns \"hellohellohello\". If the number of repetitions is 0 or less, an empty string is returned."
   ]
  },
  {
   "cell_type": "code",
   "execution_count": 21,
   "id": "e7ee47a0",
   "metadata": {},
   "outputs": [],
   "source": [
    "def repl(name, num):\n",
    "    return name*num"
   ]
  },
  {
   "cell_type": "code",
   "execution_count": 22,
   "id": "1db6f154",
   "metadata": {},
   "outputs": [
    {
     "data": {
      "text/plain": [
       "'hellohellohello'"
      ]
     },
     "execution_count": 22,
     "metadata": {},
     "output_type": "execute_result"
    }
   ],
   "source": [
    "repl('hello',3)"
   ]
  },
  {
   "cell_type": "raw",
   "id": "0a548145",
   "metadata": {},
   "source": [
    "11. Write a method called printRange that accepts two integers as arguments and prints the sequence of numbers between the two arguments, separated by spaces. Print an increasing sequence if the first argument is smaller than the second; otherwise,  print a decreasing sequence. If the two numbers are the same, that number should be printed by itself. Here are some sample calls to printRange:\n",
    "    printRange(2, 7)\n",
    "    printRange(19, 11)\n",
    "    printRange(5, 5)\n",
    "    The output produced should be the following:\n",
    "    2 3 4 5 6 7\n",
    "    19 18 17 16 15 14 13 12 11\n",
    "    5"
   ]
  },
  {
   "cell_type": "code",
   "execution_count": 23,
   "id": "ba8d4789",
   "metadata": {},
   "outputs": [],
   "source": [
    "def printRange(num1,num2):\n",
    "    for num in range(num1, num2+ 1):\n",
    "        print(num, end=' ')"
   ]
  },
  {
   "cell_type": "code",
   "execution_count": 24,
   "id": "b20f80eb",
   "metadata": {},
   "outputs": [
    {
     "name": "stdout",
     "output_type": "stream",
     "text": [
      "2 3 4 5 6 7 "
     ]
    }
   ],
   "source": [
    "printRange(2, 7)"
   ]
  },
  {
   "cell_type": "code",
   "execution_count": 25,
   "id": "1f23b49a",
   "metadata": {},
   "outputs": [
    {
     "name": "stdout",
     "output_type": "stream",
     "text": [
      "5 "
     ]
    }
   ],
   "source": [
    "def printRange(num1, num2):\n",
    "    \n",
    "    if num1< num2:\n",
    "        print(num)\n",
    "    else:\n",
    "        for num in range(num1, num2-1, -1):\n",
    "            print(num, end =\" \")\n",
    "printRange(5,5)"
   ]
  },
  {
   "cell_type": "code",
   "execution_count": 26,
   "id": "6b44aaab",
   "metadata": {},
   "outputs": [
    {
     "name": "stdout",
     "output_type": "stream",
     "text": [
      "19 18 17 16 15 14 13 12 11 "
     ]
    }
   ],
   "source": [
    "printRange(19, 11)"
   ]
  },
  {
   "cell_type": "raw",
   "id": "1bfe36fd",
   "metadata": {},
   "source": [
    "12. Write a method named smallestLargest that asks the user to enter numbers, \t  then prints the smallest and largest of all the numbers typed in by the \t\tuser. You may assume the user enters a valid number greater than 0 for the     number of numbers to read. Here is an example dialogue:\n",
    "    How many numbers do you want to enter? 4\n",
    "    Number 1: 5\n",
    "    Number 2: 11\n",
    "    Number 3: -2\n",
    "    Number 4: 3\n",
    "    Smallest = -2\n",
    "    Largest = 11"
   ]
  },
  {
   "cell_type": "code",
   "execution_count": 27,
   "id": "085dc8ee",
   "metadata": {},
   "outputs": [
    {
     "name": "stdout",
     "output_type": "stream",
     "text": [
      "How many numbers do you want to enter? 4\n",
      "No 1 : 5\n",
      "No 2 : 11\n",
      "No 3 : -2\n",
      "No 4 : 3\n",
      "smallest figure : -2\n",
      "largest figure: 11\n"
     ]
    }
   ],
   "source": [
    "def smallestLargest():\n",
    "    num=int(input('How many numbers do you want to enter? '))\n",
    "    if num > 0 :\n",
    "        n = []\n",
    "        for i in range(1, num + 1):\n",
    "            num1 = int(input(f'No {i} : '))\n",
    "            n.append(num1)\n",
    "        smallest = min(n)\n",
    "        largest  = max(n)\n",
    "        print(f'smallest figure : {smallest}')\n",
    "        print(f'largest figure: {largest}')\n",
    "smallestLargest()        "
   ]
  },
  {
   "cell_type": "raw",
   "id": "1e718e19",
   "metadata": {},
   "source": [
    "13. Write a method called printAverage that uses a sentinel loop to repeatedly     prompt the user for numbers. Once the user types any number less than zero,     the method should display the average of all nonnegative numbers typed.         Display the average as a double. Here is a sample dialogue with the user:\n",
    "    Type a number: 7\n",
    "    Type a number: 4\n",
    "    Type a number: 16\n",
    "    Type a number: –4\n",
    "    Average was 9.0\n",
    "    If the first number that the user types is negative, do not print an           average:\n",
    "    Type a number: –2"
   ]
  },
  {
   "cell_type": "code",
   "execution_count": 29,
   "id": "e4fe6570",
   "metadata": {},
   "outputs": [
    {
     "name": "stdout",
     "output_type": "stream",
     "text": [
      "Type any number: 7\n",
      "Type any number: 4\n",
      "Type any number: 16\n",
      "Type any number: -4\n",
      "Average was 9.0\n"
     ]
    }
   ],
   "source": [
    "def printAverage():\n",
    "    total_sum = 0\n",
    "    total_count = 0\n",
    "    \n",
    "    while True:\n",
    "        n = float(input('Type any number: '))\n",
    "        \n",
    "        if total_count < 0 and total_sum == 0:\n",
    "            print('Nonnegative numbers entered ')\n",
    "            break\n",
    "        \n",
    "        if n < 0:\n",
    "            average = total_sum/total_count\n",
    "            print(f'Average was {average}')\n",
    "            break\n",
    "            \n",
    "        total_sum += n\n",
    "        total_count += 1\n",
    "        \n",
    "printAverage()\n",
    "    "
   ]
  },
  {
   "cell_type": "code",
   "execution_count": 30,
   "id": "5fb3b2f8",
   "metadata": {},
   "outputs": [
    {
     "name": "stdout",
     "output_type": "stream",
     "text": [
      "Type any number: -2\n",
      "do not print the code \n"
     ]
    }
   ],
   "source": [
    "def printAverage():\n",
    "    total_sum = 0\n",
    "    total_count = 0\n",
    "    \n",
    "    while True:\n",
    "        n = float(input('Type any number: '))\n",
    "        \n",
    "        if total_count == 0 and n < 0:\n",
    "            print('do not print the code ')\n",
    "            break\n",
    "        \n",
    "        if n < 0:\n",
    "            average = total_sum / total_count\n",
    "            print(f'Average was {average}')\n",
    "            break\n",
    "            \n",
    "        total_sum += n\n",
    "        total_count += 1\n",
    "        \n",
    "printAverage()"
   ]
  },
  {
   "cell_type": "raw",
   "id": "5bbf6415",
   "metadata": {},
   "source": [
    "14.\tWrite a method named numUnique that takes three integers as parameters and     returns the number of unique integers among the three. For example, the      \tcall numUnique(18, 3, 4) should return 3 because the parameters have three \t   different values. By contrast, the call numUnique(6, 7, 6) should return 2  \t   because there are only two unique numbers among the three parameters: 6 and     7."
   ]
  },
  {
   "cell_type": "code",
   "execution_count": 31,
   "id": "e5d45d27",
   "metadata": {},
   "outputs": [],
   "source": [
    "def numUnique(num1,num2,num3):\n",
    "    # getting a unique number of integers among three numbers\n",
    "    unique_num = set([num1,num2,num3])\n",
    "    return len(unique_num)"
   ]
  },
  {
   "cell_type": "code",
   "execution_count": 32,
   "id": "657bbbdb",
   "metadata": {},
   "outputs": [
    {
     "data": {
      "text/plain": [
       "3"
      ]
     },
     "execution_count": 32,
     "metadata": {},
     "output_type": "execute_result"
    }
   ],
   "source": [
    "numUnique(18, 3, 4)"
   ]
  },
  {
   "cell_type": "code",
   "execution_count": 33,
   "id": "b85a3116",
   "metadata": {},
   "outputs": [
    {
     "data": {
      "text/plain": [
       "2"
      ]
     },
     "execution_count": 33,
     "metadata": {},
     "output_type": "execute_result"
    }
   ],
   "source": [
    "numUnique(6,7,6)"
   ]
  },
  {
   "cell_type": "raw",
   "id": "db185775",
   "metadata": {},
   "source": [
    "15. A Random object generates pseudo-random numbers. Find out how to use the Random class and write a program that simulates rolling of two 6-sided dice until their combined result comes up as 7. One possible output can be seen as below:\n",
    "2 + 4 = 6\n",
    "3 + 5 = 8\n",
    "5 + 6 = 11\n",
    "1 + 1 = 2\n",
    "4 + 3 = 7\n",
    "You won after 5 tries!"
   ]
  },
  {
   "cell_type": "code",
   "execution_count": 34,
   "id": "bd7ccd1a",
   "metadata": {},
   "outputs": [],
   "source": [
    "import random\n",
    "\n",
    "def roll_dice():\n",
    "    '''returning random number between 1 and 6\n",
    "    '''\n",
    "    return random.randint(1, 6)\n",
    "def simulates_roll_dice():\n",
    "    total = 0\n",
    "    rolling = 0\n",
    "    while total != 7 :\n",
    "        dice = roll_dice()\n",
    "        dice1 = roll_dice()\n",
    "        total = dice + dice1\n",
    "        rolling += 1\n",
    "        print(f'roll result are in {rolling} to result in {dice} +{dice1}={total}')\n",
    "        print(f'You won after {rolling} tries')"
   ]
  },
  {
   "cell_type": "code",
   "execution_count": 35,
   "id": "e59743e2",
   "metadata": {},
   "outputs": [
    {
     "name": "stdout",
     "output_type": "stream",
     "text": [
      "roll result are in 1 to result in 1 +3=4\n",
      "You won after 1 tries\n",
      "roll result are in 2 to result in 6 +5=11\n",
      "You won after 2 tries\n",
      "roll result are in 3 to result in 4 +1=5\n",
      "You won after 3 tries\n",
      "roll result are in 4 to result in 1 +4=5\n",
      "You won after 4 tries\n",
      "roll result are in 5 to result in 5 +4=9\n",
      "You won after 5 tries\n",
      "roll result are in 6 to result in 6 +4=10\n",
      "You won after 6 tries\n",
      "roll result are in 7 to result in 2 +1=3\n",
      "You won after 7 tries\n",
      "roll result are in 8 to result in 3 +4=7\n",
      "You won after 8 tries\n"
     ]
    }
   ],
   "source": [
    "simulates_roll_dice()"
   ]
  }
 ],
 "metadata": {
  "hide_input": false,
  "kernelspec": {
   "display_name": "Python 3 (ipykernel)",
   "language": "python",
   "name": "python3"
  },
  "language_info": {
   "codemirror_mode": {
    "name": "ipython",
    "version": 3
   },
   "file_extension": ".py",
   "mimetype": "text/x-python",
   "name": "python",
   "nbconvert_exporter": "python",
   "pygments_lexer": "ipython3",
   "version": "3.7.8"
  },
  "toc": {
   "base_numbering": 1,
   "nav_menu": {},
   "number_sections": true,
   "sideBar": true,
   "skip_h1_title": false,
   "title_cell": "Table of Contents",
   "title_sidebar": "Contents",
   "toc_cell": false,
   "toc_position": {},
   "toc_section_display": true,
   "toc_window_display": false
  }
 },
 "nbformat": 4,
 "nbformat_minor": 5
}
