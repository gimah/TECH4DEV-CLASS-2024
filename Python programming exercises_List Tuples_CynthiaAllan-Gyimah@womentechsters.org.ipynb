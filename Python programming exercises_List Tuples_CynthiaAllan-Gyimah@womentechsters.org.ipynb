{
 "cells": [
  {
   "cell_type": "raw",
   "id": "bcf14594",
   "metadata": {},
   "source": [
    "1. Write a program that finds the maximum value of the given list, assuming that the list contains at least one element.\n",
    "   Try your program with the following array\n",
    "   2,4,7,4,23,5,1,4,8,9\n",
    "   "
   ]
  },
  {
   "cell_type": "code",
   "execution_count": 1,
   "id": "7f3c23be",
   "metadata": {},
   "outputs": [
    {
     "name": "stdout",
     "output_type": "stream",
     "text": [
      "23\n"
     ]
    }
   ],
   "source": [
    "list1 =[2,4,7,4,23,5,1,4,8,9]\n",
    "print(max(list1))"
   ]
  },
  {
   "cell_type": "code",
   "execution_count": 7,
   "id": "5a66f746",
   "metadata": {},
   "outputs": [
    {
     "name": "stdout",
     "output_type": "stream",
     "text": [
      "Enter number of elements in list: 4\n",
      "Enter elements: 4\n",
      "Enter elements: 5\n",
      "Enter elements: 5\n",
      "Enter elements: 9\n",
      "Largest element is: 9\n"
     ]
    }
   ],
   "source": [
    "# Python program to find largest\n",
    "# number in a list\n",
    "\n",
    "# Creating an empty list\n",
    "list1 = []\n",
    "\n",
    "# asking number of elements to put in list\n",
    "num = int(input(\"Enter number of elements in list: \"))\n",
    "\n",
    "# Iterating till num to append elements in list\n",
    "for i in range(1, num + 1):\n",
    "\tele = int(input(\"Enter elements: \"))\n",
    "\tlist1.append(ele)\n",
    "\n",
    "# Printing maximum element\n",
    "print(\"Largest element is:\", max(list1))\n"
   ]
  },
  {
   "cell_type": "raw",
   "id": "ff06520a",
   "metadata": {},
   "source": [
    "2. Write a program that calculates the average value of the given list.\n",
    "   Try your program with the following list\n",
    "   4,7,1,5,11,53,12,46,84,23"
   ]
  },
  {
   "cell_type": "code",
   "execution_count": 2,
   "id": "4f6df85f",
   "metadata": {},
   "outputs": [],
   "source": [
    "list2 =[4,7,1,5,11,53,12,46,84,23]\n"
   ]
  },
  {
   "cell_type": "code",
   "execution_count": 3,
   "id": "10de9d1b",
   "metadata": {},
   "outputs": [
    {
     "name": "stdout",
     "output_type": "stream",
     "text": [
      "24.6\n"
     ]
    }
   ],
   "source": [
    "average_list2=sum(list2)/len(list2)\n",
    "\n",
    "print(average_list2)"
   ]
  },
  {
   "cell_type": "raw",
   "id": "28df39f3",
   "metadata": {},
   "source": [
    "3. Write a program that prints the given list of integers in reverse order.\n",
    "   Try your program with the following list\n",
    "   2,6,7,45,23,53,14,45,89,5"
   ]
  },
  {
   "cell_type": "code",
   "execution_count": 4,
   "id": "63fa3c5e",
   "metadata": {},
   "outputs": [],
   "source": [
    "list3=[2,6,7,45,23,53,14,45,89,5]"
   ]
  },
  {
   "cell_type": "code",
   "execution_count": 5,
   "id": "565f8ee8",
   "metadata": {},
   "outputs": [],
   "source": [
    "list3.reverse()"
   ]
  },
  {
   "cell_type": "code",
   "execution_count": 6,
   "id": "a4f6024d",
   "metadata": {},
   "outputs": [
    {
     "name": "stdout",
     "output_type": "stream",
     "text": [
      "[5, 89, 45, 14, 53, 23, 45, 7, 6, 2]\n"
     ]
    }
   ],
   "source": [
    "print(list3)"
   ]
  },
  {
   "cell_type": "raw",
   "id": "e7240d2c",
   "metadata": {},
   "source": [
    "4. Write a program that accepts two lists of integers and prints true if each element in the first list is less than the element at the same index in the second list. Your program should print false if the lists are not the same length."
   ]
  },
  {
   "cell_type": "code",
   "execution_count": 7,
   "id": "97a61970",
   "metadata": {},
   "outputs": [
    {
     "name": "stdout",
     "output_type": "stream",
     "text": [
      "Enter your values : 2 4 5\n"
     ]
    }
   ],
   "source": [
    "list_a = input('Enter your values : ')\n"
   ]
  },
  {
   "cell_type": "code",
   "execution_count": 8,
   "id": "88eb47ad",
   "metadata": {
    "scrolled": true
   },
   "outputs": [
    {
     "data": {
      "text/plain": [
       "['2', '4', '5']"
      ]
     },
     "execution_count": 8,
     "metadata": {},
     "output_type": "execute_result"
    }
   ],
   "source": [
    "list_a1 = list_a.split()\n",
    "list_a1"
   ]
  },
  {
   "cell_type": "code",
   "execution_count": 9,
   "id": "fba7e826",
   "metadata": {},
   "outputs": [],
   "source": [
    "for i in range(0,len(list_a1)):\n",
    "    list_a1[i]=int(list_a1[i])\n"
   ]
  },
  {
   "cell_type": "code",
   "execution_count": 10,
   "id": "1b0ebad3",
   "metadata": {},
   "outputs": [
    {
     "name": "stdout",
     "output_type": "stream",
     "text": [
      "[2, 4, 5]\n"
     ]
    }
   ],
   "source": [
    "print(list_a1)"
   ]
  },
  {
   "cell_type": "code",
   "execution_count": 11,
   "id": "d2d60ca6",
   "metadata": {
    "scrolled": true
   },
   "outputs": [
    {
     "name": "stdout",
     "output_type": "stream",
     "text": [
      "Enter your values:  5 4 11\n"
     ]
    }
   ],
   "source": [
    "list_b = input('Enter your values:  ')"
   ]
  },
  {
   "cell_type": "code",
   "execution_count": 12,
   "id": "5f1d0b0e",
   "metadata": {},
   "outputs": [
    {
     "data": {
      "text/plain": [
       "['5', '4', '11']"
      ]
     },
     "execution_count": 12,
     "metadata": {},
     "output_type": "execute_result"
    }
   ],
   "source": [
    "list_b1 = list_b.split()\n",
    "list_b1"
   ]
  },
  {
   "cell_type": "code",
   "execution_count": 13,
   "id": "7f261438",
   "metadata": {},
   "outputs": [],
   "source": [
    "for i in range(0,len(list_b1)):\n",
    "    list_b1[i]=int(list_b1[i])"
   ]
  },
  {
   "cell_type": "code",
   "execution_count": 14,
   "id": "318f2bf4",
   "metadata": {},
   "outputs": [
    {
     "name": "stdout",
     "output_type": "stream",
     "text": [
      "[5, 4, 11]\n"
     ]
    }
   ],
   "source": [
    "print(list_b1)"
   ]
  },
  {
   "cell_type": "code",
   "execution_count": 15,
   "id": "12484759",
   "metadata": {},
   "outputs": [
    {
     "name": "stdout",
     "output_type": "stream",
     "text": [
      "True\n"
     ]
    }
   ],
   "source": [
    "if list_a1[0]<list_b1[0]:\n",
    "    print(True)\n",
    "elif len(list_a1)!=len(list_b1):\n",
    "    print(False)\n",
    "else:\n",
    "    pass    "
   ]
  },
  {
   "cell_type": "raw",
   "id": "eeed7c1c",
   "metadata": {},
   "source": [
    "5. Write a program that accepts a list of integers and two indexes and swaps the elements at those indexes"
   ]
  },
  {
   "cell_type": "code",
   "execution_count": 16,
   "id": "d8312b4c",
   "metadata": {},
   "outputs": [],
   "source": [
    "list4=[2,3]\n",
    "list5=[4,5]\n",
    "list6=list4\n",
    "list4=list5\n",
    "list5=list6"
   ]
  },
  {
   "cell_type": "code",
   "execution_count": 17,
   "id": "04c19b64",
   "metadata": {},
   "outputs": [
    {
     "name": "stdout",
     "output_type": "stream",
     "text": [
      "[4, 5]\n"
     ]
    }
   ],
   "source": [
    "print(list4)"
   ]
  },
  {
   "cell_type": "code",
   "execution_count": 18,
   "id": "264fbffa",
   "metadata": {},
   "outputs": [
    {
     "name": "stdout",
     "output_type": "stream",
     "text": [
      "[2, 3]\n"
     ]
    }
   ],
   "source": [
    "print(list5)"
   ]
  },
  {
   "cell_type": "raw",
   "id": "d5f897f9",
   "metadata": {},
   "source": [
    "6. Write a program that accepts two lists of integers and prints a new list containing all elements of the first list followed      by all elements of the second."
   ]
  },
  {
   "cell_type": "code",
   "execution_count": 19,
   "id": "c0756fdb",
   "metadata": {},
   "outputs": [
    {
     "name": "stdout",
     "output_type": "stream",
     "text": [
      "[5, 7, 8, 9]\n"
     ]
    }
   ],
   "source": [
    "list6 =[5,7]\n",
    "list7 =[8,9]\n",
    "list8 = list6 + list7\n",
    "print(list8)"
   ]
  },
  {
   "cell_type": "raw",
   "id": "45af1eb4",
   "metadata": {},
   "source": [
    "7. Write a program that accepts a list of integers and an integer value as its parameters and prints the last index at which the    value occurs in the list. The program should print –1 if the value is not found. For example, in the list\n",
    "   [74, 85, 102, 99, 101, 85, 56], the last index of the value 85 is 5."
   ]
  },
  {
   "cell_type": "code",
   "execution_count": 2,
   "id": "d3cebd15",
   "metadata": {},
   "outputs": [
    {
     "name": "stdout",
     "output_type": "stream",
     "text": [
      "The last index of 85 is 5\n"
     ]
    }
   ],
   "source": [
    "def last_index_of(lst, value):\n",
    "    for i in range(len(lst)-1, -1, -1):\n",
    "        if lst[i] == value:\n",
    "            return i\n",
    "    return -1\n",
    "\n",
    "# Example usage:\n",
    "my_list = [74, 85, 102, 99, 101, 85, 56]\n",
    "search_value = 85\n",
    "result = last_index_of(my_list, search_value)\n",
    "print(f\"The last index of {search_value} is {result}\")"
   ]
  },
  {
   "cell_type": "raw",
   "id": "8529de7d",
   "metadata": {},
   "source": [
    "8. Write a program that prints the range of values in a list of integers. The range is defined as 1 more than the difference        between the maximum and minimum values in the list. For example, if a list contains the values [36, 12, 25, 19, 46, 31, 22],    the program should return 35. You may assume that the list has at least one element."
   ]
  },
  {
   "cell_type": "code",
   "execution_count": 1,
   "id": "4a5cedc8",
   "metadata": {},
   "outputs": [
    {
     "name": "stdout",
     "output_type": "stream",
     "text": [
      "35\n"
     ]
    }
   ],
   "source": [
    "def list_range(nums):\n",
    "    # Calculate the range as 1 more than the difference between the maximum and minimum values in the list\n",
    "    result = max(nums) - min(nums) + 1\n",
    "    return result\n",
    "\n",
    "# Example usage:\n",
    "numbers = [36, 12, 25, 19, 46, 31, 22]\n",
    "print(list_range(numbers))  # Output: 35"
   ]
  },
  {
   "cell_type": "raw",
   "id": "02dbaf41",
   "metadata": {},
   "source": [
    "9. Write a program that accepts a list of integers, a minimum value, and a maximum value and prints the count of how many elements from the list fall between the minimum and maximum (inclusive). For example, in the list [14, 1, 22, 17, 36, 7, -43, 5], for minimum value 4 and maximum value 17, there are four elements whose values fall between 4 and 17."
   ]
  },
  {
   "cell_type": "code",
   "execution_count": 3,
   "id": "13d89c18",
   "metadata": {},
   "outputs": [
    {
     "name": "stdout",
     "output_type": "stream",
     "text": [
      "There are 4 elements in the list that fall between 4 and 17.\n"
     ]
    }
   ],
   "source": [
    "def count_in_range(lst, min_val, max_val):\n",
    "    count = 0\n",
    "    for num in lst:\n",
    "        if min_val <= num <= max_val:\n",
    "            count += 1\n",
    "    print(f\"There are {count} elements in the list that fall between {min_val} and {max_val}.\")\n",
    "\n",
    "# Example usage:\n",
    "my_list = [14, 1, 22, 17, 36, 7, -43, 5]\n",
    "count_in_range(my_list, 4, 17)\n"
   ]
  },
  {
   "cell_type": "raw",
   "id": "1adcf49f",
   "metadata": {},
   "source": [
    "10. Write a program that accepts a list of real numbers and prints true if the list is in sorted (nondecreasing) order and false \t otherwise. For example, if lists named list1 and list2 store [16.1, 12.3, 22.2, 14.4] and [1.5, 4.3, 7.0, 19.5, 25.1, 46.2]     respectively, the program should print false for list1 and true for list2 respectively. Assume the list has at least one \t     element. A one-element list is sorted."
   ]
  },
  {
   "cell_type": "code",
   "execution_count": 4,
   "id": "44d3d079",
   "metadata": {},
   "outputs": [
    {
     "name": "stdout",
     "output_type": "stream",
     "text": [
      "False\n",
      "True\n"
     ]
    }
   ],
   "source": [
    "def is_sorted(lst):\n",
    "    for i in range(len(lst) - 1):\n",
    "        if lst[i] > lst[i + 1]:\n",
    "            print(False)\n",
    "            return\n",
    "    print(True)\n",
    "\n",
    "# Example usage\n",
    "list1 = [16.1, 12.3, 22.2, 14.4]\n",
    "list2 = [1.5, 4.3, 7.0, 19.5, 25.1, 46.2]\n",
    "\n",
    "is_sorted(list1)  # Output: False\n",
    "is_sorted(list2)  # Output: True"
   ]
  },
  {
   "cell_type": "code",
   "execution_count": null,
   "id": "a7119926",
   "metadata": {},
   "outputs": [],
   "source": []
  },
  {
   "cell_type": "code",
   "execution_count": null,
   "id": "acd4d919",
   "metadata": {},
   "outputs": [],
   "source": []
  }
 ],
 "metadata": {
  "hide_input": false,
  "kernelspec": {
   "display_name": "Python 3 (ipykernel)",
   "language": "python",
   "name": "python3"
  },
  "language_info": {
   "codemirror_mode": {
    "name": "ipython",
    "version": 3
   },
   "file_extension": ".py",
   "mimetype": "text/x-python",
   "name": "python",
   "nbconvert_exporter": "python",
   "pygments_lexer": "ipython3",
   "version": "3.7.8"
  },
  "toc": {
   "base_numbering": 1,
   "nav_menu": {},
   "number_sections": true,
   "sideBar": true,
   "skip_h1_title": false,
   "title_cell": "Table of Contents",
   "title_sidebar": "Contents",
   "toc_cell": false,
   "toc_position": {},
   "toc_section_display": true,
   "toc_window_display": false
  }
 },
 "nbformat": 4,
 "nbformat_minor": 5
}
