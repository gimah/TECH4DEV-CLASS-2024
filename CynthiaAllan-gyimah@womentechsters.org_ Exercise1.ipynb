{
 "cells": [
  {
   "cell_type": "markdown",
   "id": "a2592c6e",
   "metadata": {},
   "source": [
    "## Exercise 1 "
   ]
  },
  {
   "cell_type": "raw",
   "id": "5a6cf9c3",
   "metadata": {},
   "source": [
    "\n",
    " 1.What is the output of the following print statements?\n",
    "\t\n",
    "   \n",
    "    ** print(\"\\ta\\tb\\tc\") \n",
    "    ** print(\"\\\\\\\\\")\n",
    "    ** print(\"'\")\n",
    "    ** print(\"\\\"\\\"\\\"\")\n",
    "    ** print(\"C:\\nin\\the downward spiral\")\n"
   ]
  },
  {
   "cell_type": "code",
   "execution_count": 1,
   "id": "9c5ef163",
   "metadata": {},
   "outputs": [
    {
     "name": "stdout",
     "output_type": "stream",
     "text": [
      "\ta \tb \tc\n"
     ]
    }
   ],
   "source": [
    "print('\\ta \\tb \\tc')"
   ]
  },
  {
   "cell_type": "code",
   "execution_count": 2,
   "id": "327b0b3f",
   "metadata": {},
   "outputs": [
    {
     "name": "stdout",
     "output_type": "stream",
     "text": [
      "\\\\\n"
     ]
    }
   ],
   "source": [
    "print('\\\\\\\\')"
   ]
  },
  {
   "cell_type": "code",
   "execution_count": 3,
   "id": "164432d4",
   "metadata": {
    "scrolled": true
   },
   "outputs": [
    {
     "name": "stdout",
     "output_type": "stream",
     "text": [
      " ' \n"
     ]
    }
   ],
   "source": [
    "print(\" ' \")"
   ]
  },
  {
   "cell_type": "code",
   "execution_count": 1,
   "id": "01f82457",
   "metadata": {},
   "outputs": [
    {
     "name": "stdout",
     "output_type": "stream",
     "text": [
      "\"\"\"\n"
     ]
    }
   ],
   "source": [
    "print(\"\\\"\\\"\\\"\")"
   ]
  },
  {
   "cell_type": "code",
   "execution_count": 4,
   "id": "1be11db0",
   "metadata": {},
   "outputs": [
    {
     "name": "stdout",
     "output_type": "stream",
     "text": [
      "C:\n",
      "in\the downward spiral\n"
     ]
    }
   ],
   "source": [
    "print(\"C:\\nin\\the downward spiral\")"
   ]
  },
  {
   "cell_type": "raw",
   "id": "89236bae",
   "metadata": {},
   "source": [
    "2.Write a print statement to produce this output: / \\ // \\\\ /// \\\\\\\n",
    "\n"
   ]
  },
  {
   "cell_type": "code",
   "execution_count": 5,
   "id": "e16b44a2",
   "metadata": {},
   "outputs": [
    {
     "name": "stdout",
     "output_type": "stream",
     "text": [
      "/ \\  // \\\\ /// \\\\\\"
     ]
    }
   ],
   "source": [
    "print('/ \\\\  // \\\\\\\\ /// \\\\\\\\',end='\\\\')"
   ]
  },
  {
   "cell_type": "raw",
   "id": "1bf42437",
   "metadata": {},
   "source": [
    "3.What print statements will generate this output?\n",
    "This quote is from \n",
    "Irish poet Oscar Wilde:\n",
    "\"Music makes one feel so romantic\n",
    "\n",
    "- at least it always gets on one's nerves –\n",
    "which is the same thing nowadays.\"\n"
   ]
  },
  {
   "cell_type": "code",
   "execution_count": 2,
   "id": "cef5e2a0",
   "metadata": {},
   "outputs": [
    {
     "name": "stdout",
     "output_type": "stream",
     "text": [
      "This quote is from\n",
      " Irish poet Oscar Wilde:\n",
      "\"Music makes one feel so romantic\n",
      "\n",
      "- at least it always gets on one\"s nerves -\n",
      "which is the same thing nowadays.\" \n"
     ]
    }
   ],
   "source": [
    "print('This quote is from\\n Irish poet Oscar Wilde:\\n\"Music makes one feel so romantic\\n\\n- at least it always gets on one\"s nerves -\\nwhich is the same thing nowadays.\" ')"
   ]
  },
  {
   "cell_type": "raw",
   "id": "4bfbcec8",
   "metadata": {},
   "source": [
    "4.What print statements will generate this output?\n",
    " A \"quoted\" String is \n",
    " 'much' better if you learn\n",
    " the rules of \"escape sequences.\" \n",
    " Also, \"\" represents an empty String. \n",
    " Don't forget: use \\\" instead of \" !\n",
    " '' is not the same as \"\n"
   ]
  },
  {
   "cell_type": "code",
   "execution_count": 1,
   "id": "d566e105",
   "metadata": {},
   "outputs": [
    {
     "name": "stdout",
     "output_type": "stream",
     "text": [
      "A \"quoted\" String is\n",
      " \"much\" better if you learn\n",
      " the rules of \"escape sequences.\"\n",
      "Also, \"\" represents an empty String.\n",
      " Don\"t forget: use \\\"instead of \"!\n",
      "\"\" is not the same as \"\" \n"
     ]
    }
   ],
   "source": [
    "print('A \"quoted\" String is\\n \"much\" better if you learn\\n the rules of \"escape sequences.\"\\nAlso, \"\" represents an empty String.\\n Don\"t forget: use \\\\\"instead of \"!\\n\"\" is not the same as \"\" ')"
   ]
  },
  {
   "cell_type": "raw",
   "id": "24455468",
   "metadata": {},
   "source": [
    "5. What values result from the following expressions?\n",
    "–\t9 / 5\n",
    "–\t695 % 20\n",
    "–\t7 + 6 * 5\n",
    "–\t7 * 6 + 5\n",
    "–\t248 % 100 / 5\n",
    "–\t6 * 3 - 9 / 4\n",
    "–\t(5 - 7) * 4\n",
    "–\t6 + (18 % (17 - 12))"
   ]
  },
  {
   "cell_type": "code",
   "execution_count": 8,
   "id": "45425a5a",
   "metadata": {},
   "outputs": [
    {
     "name": "stdout",
     "output_type": "stream",
     "text": [
      "1.8\n"
     ]
    }
   ],
   "source": [
    "print(9/ 5)"
   ]
  },
  {
   "cell_type": "code",
   "execution_count": 9,
   "id": "3f39b467",
   "metadata": {},
   "outputs": [
    {
     "name": "stdout",
     "output_type": "stream",
     "text": [
      "15\n"
     ]
    }
   ],
   "source": [
    "print(695 % 20)"
   ]
  },
  {
   "cell_type": "code",
   "execution_count": 10,
   "id": "284fede2",
   "metadata": {},
   "outputs": [
    {
     "name": "stdout",
     "output_type": "stream",
     "text": [
      "37\n"
     ]
    }
   ],
   "source": [
    "print(7 + 6 * 5)"
   ]
  },
  {
   "cell_type": "code",
   "execution_count": 11,
   "id": "501673df",
   "metadata": {},
   "outputs": [
    {
     "name": "stdout",
     "output_type": "stream",
     "text": [
      "9.6\n"
     ]
    }
   ],
   "source": [
    "print(248 % 100 / 5)"
   ]
  },
  {
   "cell_type": "code",
   "execution_count": 12,
   "id": "a8b9e272",
   "metadata": {},
   "outputs": [
    {
     "name": "stdout",
     "output_type": "stream",
     "text": [
      "15.75\n"
     ]
    }
   ],
   "source": [
    "print(6* 3 - 9 / 4)"
   ]
  },
  {
   "cell_type": "code",
   "execution_count": 13,
   "id": "3f9ca5e3",
   "metadata": {},
   "outputs": [
    {
     "name": "stdout",
     "output_type": "stream",
     "text": [
      "-8\n"
     ]
    }
   ],
   "source": [
    "print((5- 7) * 4)"
   ]
  },
  {
   "cell_type": "code",
   "execution_count": 14,
   "id": "1db0f028",
   "metadata": {},
   "outputs": [
    {
     "name": "stdout",
     "output_type": "stream",
     "text": [
      "9\n"
     ]
    }
   ],
   "source": [
    "print(6 + (18 % (17- 12)))"
   ]
  },
  {
   "cell_type": "code",
   "execution_count": 1,
   "id": "e78ec72d",
   "metadata": {},
   "outputs": [
    {
     "data": {
      "text/plain": [
       "9"
      ]
     },
     "execution_count": 1,
     "metadata": {},
     "output_type": "execute_result"
    }
   ],
   "source": [
    "6 + (18 % (17-12))"
   ]
  }
 ],
 "metadata": {
  "hide_input": false,
  "kernelspec": {
   "display_name": "Python 3 (ipykernel)",
   "language": "python",
   "name": "python3"
  },
  "language_info": {
   "codemirror_mode": {
    "name": "ipython",
    "version": 3
   },
   "file_extension": ".py",
   "mimetype": "text/x-python",
   "name": "python",
   "nbconvert_exporter": "python",
   "pygments_lexer": "ipython3",
   "version": "3.7.8"
  },
  "toc": {
   "base_numbering": 1,
   "nav_menu": {},
   "number_sections": true,
   "sideBar": true,
   "skip_h1_title": false,
   "title_cell": "Table of Contents",
   "title_sidebar": "Contents",
   "toc_cell": false,
   "toc_position": {},
   "toc_section_display": true,
   "toc_window_display": false
  }
 },
 "nbformat": 4,
 "nbformat_minor": 5
}
