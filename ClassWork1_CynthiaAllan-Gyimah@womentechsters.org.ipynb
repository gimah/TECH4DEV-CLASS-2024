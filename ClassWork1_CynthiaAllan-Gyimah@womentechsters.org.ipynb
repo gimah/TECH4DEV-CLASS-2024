{
 "cells": [
  {
   "cell_type": "markdown",
   "id": "0ee6fb46",
   "metadata": {},
   "source": [
    "### Check 20 Method in list,tuples,dictionaries and give and Example writing a python code"
   ]
  },
  {
   "cell_type": "code",
   "execution_count": 1,
   "id": "8846ded4",
   "metadata": {},
   "outputs": [
    {
     "name": "stdout",
     "output_type": "stream",
     "text": [
      "[12, 15, 36, 25, 87, 65, 21, 12, 14, 15, 16]\n"
     ]
    }
   ],
   "source": [
    "# List Example\n",
    "\n",
    "\n",
    "list1 = [12,15,36,25,87,65,21,12,14,15,16]\n",
    "print(list1)"
   ]
  },
  {
   "cell_type": "code",
   "execution_count": 2,
   "id": "c8f3aeac",
   "metadata": {},
   "outputs": [
    {
     "name": "stdout",
     "output_type": "stream",
     "text": [
      "[12, 15, 36, 25, 87, 65, 21, 12, 14, 15, 16, 51]\n"
     ]
    }
   ],
   "source": [
    "# 1.Appending an item on list1\n",
    "list1.append(51)\n",
    "print(list1)"
   ]
  },
  {
   "cell_type": "code",
   "execution_count": 3,
   "id": "7c4969f5",
   "metadata": {},
   "outputs": [
    {
     "name": "stdout",
     "output_type": "stream",
     "text": [
      "[12, 12, 14, 15, 15, 16, 21, 25, 36, 51, 65, 87]\n"
     ]
    }
   ],
   "source": [
    "# 2.Sorting list1 \n",
    "list1.sort()\n",
    "print(list1)"
   ]
  },
  {
   "cell_type": "code",
   "execution_count": 4,
   "id": "7ae58d38",
   "metadata": {},
   "outputs": [
    {
     "name": "stdout",
     "output_type": "stream",
     "text": [
      "[12, 12, 14, 15, 15, 16, 21, 25, 36, 51, 65, 87, 'watermelon', 'orange', 'pinneapple', 'banana']\n"
     ]
    }
   ],
   "source": [
    "# 3. Adding a new list to list1 by using an extending method\n",
    "list1.extend(['watermelon','orange','pinneapple','banana'])\n",
    "print(list1)"
   ]
  },
  {
   "cell_type": "code",
   "execution_count": 5,
   "id": "a6e6a2b5",
   "metadata": {},
   "outputs": [
    {
     "name": "stdout",
     "output_type": "stream",
     "text": [
      "[16, 15, 14, 12, 21, 65, 87, 25, 36, 15, 12]\n"
     ]
    }
   ],
   "source": [
    "# 4 using a reverse method for list1\n",
    "list1 = [12,15,36,25,87,65,21,12,14,15,16]\n",
    "list1.reverse()\n",
    "print(list1)"
   ]
  },
  {
   "cell_type": "code",
   "execution_count": 6,
   "id": "744f7680",
   "metadata": {},
   "outputs": [
    {
     "name": "stdout",
     "output_type": "stream",
     "text": [
      "[12, 15, 36, 87, 65, 21, 12, 14, 15, 16]\n"
     ]
    }
   ],
   "source": [
    "# 5 Eliminating an item 3 in list1\n",
    "list1 = [12,15,36,25,87,65,21,12,14,15,16]\n",
    "list1.pop(3)\n",
    "\n",
    "print(list1)"
   ]
  },
  {
   "cell_type": "code",
   "execution_count": 7,
   "id": "dd132627",
   "metadata": {},
   "outputs": [
    {
     "name": "stdout",
     "output_type": "stream",
     "text": [
      "[12, 36, 25, 87, 65, 21, 12, 14, 15, 16]\n"
     ]
    }
   ],
   "source": [
    "# 6 Removing method\n",
    "list1 = [12,15,36,25,87,65,21,12,14,15,16]\n",
    "\n",
    "list1.remove(15)\n",
    "print(list1)\n"
   ]
  },
  {
   "cell_type": "code",
   "execution_count": 8,
   "id": "efa45df1",
   "metadata": {},
   "outputs": [
    {
     "name": "stdout",
     "output_type": "stream",
     "text": [
      "2\n"
     ]
    }
   ],
   "source": [
    "# 7 Count method\n",
    "\n",
    "list1 = [12,15,36,25,87,65,21,12,14,15,16]\n",
    "\n",
    "print(list1.count(12))\n",
    "\n",
    "\n",
    "\n",
    "\n"
   ]
  },
  {
   "cell_type": "code",
   "execution_count": 9,
   "id": "8e174a32",
   "metadata": {},
   "outputs": [
    {
     "name": "stdout",
     "output_type": "stream",
     "text": [
      "1\n"
     ]
    }
   ],
   "source": [
    "# 8 Index method\n",
    "list1 = [12,15,36,25,87,65,21,12,14,15,16]\n",
    "print(list1.index(15))"
   ]
  },
  {
   "cell_type": "code",
   "execution_count": 10,
   "id": "00d8e855",
   "metadata": {},
   "outputs": [
    {
     "name": "stdout",
     "output_type": "stream",
     "text": [
      "[12, 100, 15, 36, 25, 87, 65, 21, 12, 14, 15, 16]\n"
     ]
    }
   ],
   "source": [
    "# 9 insert method\n",
    "list1 = [12,15,36,25,87,65,21,12,14,15,16]\n",
    "list1.insert(1,100)\n",
    "print(list1)"
   ]
  },
  {
   "cell_type": "code",
   "execution_count": 11,
   "id": "e74deff2",
   "metadata": {},
   "outputs": [
    {
     "name": "stdout",
     "output_type": "stream",
     "text": [
      "[12, 15, 36, 25, 87, 65, 21, 12, 14, 15, 16]\n",
      "[12, 15, 36, 25, 87, 65, 21, 12, 14, 15, 16]\n"
     ]
    }
   ],
   "source": [
    "# 10 copy method\n",
    "list1 = [12,15,36,25,87,65,21,12,14,15,16]\n",
    "list2= list1.copy()\n",
    "print(list2)\n",
    "print(list1)"
   ]
  },
  {
   "cell_type": "code",
   "execution_count": 12,
   "id": "ae3a6aa5",
   "metadata": {},
   "outputs": [
    {
     "name": "stdout",
     "output_type": "stream",
     "text": [
      "[]\n"
     ]
    }
   ],
   "source": [
    "# 11 Clear method\n",
    "\n",
    "list1 = [12,15,36,25,87,65,21,12,14,15,16]\n",
    "\n",
    "list1.clear()\n",
    "print(list1)"
   ]
  },
  {
   "cell_type": "code",
   "execution_count": 13,
   "id": "0ae85fcf",
   "metadata": {},
   "outputs": [
    {
     "name": "stdout",
     "output_type": "stream",
     "text": [
      "(23, 25, 23, 25, 25)\n"
     ]
    }
   ],
   "source": [
    "# Tuples Examples\n",
    "\n",
    "tuple1= (23,25,23,25,25)\n",
    "print(tuple1)"
   ]
  },
  {
   "cell_type": "code",
   "execution_count": 14,
   "id": "831ed199",
   "metadata": {},
   "outputs": [
    {
     "data": {
      "text/plain": [
       "3"
      ]
     },
     "execution_count": 14,
     "metadata": {},
     "output_type": "execute_result"
    }
   ],
   "source": [
    "# 12 Count method in tuple\n",
    "\n",
    "tuple1.count(25)"
   ]
  },
  {
   "cell_type": "code",
   "execution_count": 15,
   "id": "c663759d",
   "metadata": {},
   "outputs": [
    {
     "data": {
      "text/plain": [
       "1"
      ]
     },
     "execution_count": 15,
     "metadata": {},
     "output_type": "execute_result"
    }
   ],
   "source": [
    "# 13 index method in tuple\n",
    "tuple1.index(25)"
   ]
  },
  {
   "cell_type": "code",
   "execution_count": 16,
   "id": "e69f121a",
   "metadata": {},
   "outputs": [],
   "source": [
    "dict1={}"
   ]
  },
  {
   "cell_type": "code",
   "execution_count": 17,
   "id": "4f707694",
   "metadata": {},
   "outputs": [],
   "source": [
    "name =['Anita','Emefa','Henry','Yayra','Etonarm','Eugene']\n",
    "\n",
    "age = [25,23,24,25,26,28,41]"
   ]
  },
  {
   "cell_type": "code",
   "execution_count": 18,
   "id": "5560e7e0",
   "metadata": {},
   "outputs": [
    {
     "data": {
      "text/plain": [
       "{'name': ['Anita', 'Emefa', 'Henry', 'Yayra', 'Etonarm', 'Eugene'],\n",
       " 'age': [25, 23, 24, 25, 26, 28, 41]}"
      ]
     },
     "execution_count": 18,
     "metadata": {},
     "output_type": "execute_result"
    }
   ],
   "source": [
    "students= {'name':['Anita','Emefa','Henry','Yayra','Etonarm','Eugene'], 'age' : [25,23,24,25,26,28,41]}\n",
    "students"
   ]
  },
  {
   "cell_type": "code",
   "execution_count": 19,
   "id": "94408db9",
   "metadata": {},
   "outputs": [
    {
     "name": "stdout",
     "output_type": "stream",
     "text": [
      "{'name': ['Anita', 'Emefa', 'Henry', 'Yayra', 'Etonarm', 'Eugene'], 'age': [25, 23, 24, 25, 26, 28, 41], 'scores': [85, 77, 65, 71, 66, 67]}\n"
     ]
    }
   ],
   "source": [
    "# 14  update method in dictionary\n",
    "\n",
    "students.update({'scores':[85,77,65,71,66,67]})\n",
    "print(students)"
   ]
  },
  {
   "cell_type": "code",
   "execution_count": 20,
   "id": "15bfb5a5",
   "metadata": {},
   "outputs": [
    {
     "data": {
      "text/plain": [
       "dict_keys(['name', 'age', 'scores'])"
      ]
     },
     "execution_count": 20,
     "metadata": {},
     "output_type": "execute_result"
    }
   ],
   "source": [
    "# 15  keys method in dictionary\n",
    "\n",
    "students.keys()"
   ]
  },
  {
   "cell_type": "code",
   "execution_count": 21,
   "id": "a24f8737",
   "metadata": {},
   "outputs": [
    {
     "data": {
      "text/plain": [
       "dict_values([['Anita', 'Emefa', 'Henry', 'Yayra', 'Etonarm', 'Eugene'], [25, 23, 24, 25, 26, 28, 41], [85, 77, 65, 71, 66, 67]])"
      ]
     },
     "execution_count": 21,
     "metadata": {},
     "output_type": "execute_result"
    }
   ],
   "source": [
    "# 16 values method in dictionary\n",
    "\n",
    "students.values()"
   ]
  },
  {
   "cell_type": "code",
   "execution_count": 22,
   "id": "5566e8a0",
   "metadata": {},
   "outputs": [
    {
     "data": {
      "text/plain": [
       "dict_items([('name', ['Anita', 'Emefa', 'Henry', 'Yayra', 'Etonarm', 'Eugene']), ('age', [25, 23, 24, 25, 26, 28, 41]), ('scores', [85, 77, 65, 71, 66, 67])])"
      ]
     },
     "execution_count": 22,
     "metadata": {},
     "output_type": "execute_result"
    }
   ],
   "source": [
    "# 17 items method in dictionary\n",
    "\n",
    "students.items()"
   ]
  },
  {
   "cell_type": "code",
   "execution_count": 23,
   "id": "d6b69eab",
   "metadata": {},
   "outputs": [
    {
     "data": {
      "text/plain": [
       "[25, 23, 24, 25, 26, 28, 41]"
      ]
     },
     "execution_count": 23,
     "metadata": {},
     "output_type": "execute_result"
    }
   ],
   "source": [
    "# 18 get method in dictionary \n",
    "\n",
    "students.get('age')"
   ]
  },
  {
   "cell_type": "code",
   "execution_count": 24,
   "id": "f970d2a9",
   "metadata": {},
   "outputs": [
    {
     "data": {
      "text/plain": [
       "['Anita', 'Emefa', 'Henry', 'Yayra', 'Etonarm', 'Eugene']"
      ]
     },
     "execution_count": 24,
     "metadata": {},
     "output_type": "execute_result"
    }
   ],
   "source": [
    "# 19 pop method in dictionary \n",
    "students.pop('name')"
   ]
  },
  {
   "cell_type": "code",
   "execution_count": 25,
   "id": "37d38afb",
   "metadata": {},
   "outputs": [
    {
     "name": "stdout",
     "output_type": "stream",
     "text": [
      "{}\n"
     ]
    }
   ],
   "source": [
    "# 20 clear method in dictionary\n",
    "\n",
    "students.clear()\n",
    "print(students)"
   ]
  },
  {
   "cell_type": "code",
   "execution_count": 26,
   "id": "ffec5618",
   "metadata": {},
   "outputs": [],
   "source": [
    "students= {'name':['Anita','Emefa','Henry','Yayra','Etonarm','Eugene'], 'age' : [25,23,24,25,26,28,41]}"
   ]
  },
  {
   "cell_type": "code",
   "execution_count": 28,
   "id": "0b5cbee3",
   "metadata": {},
   "outputs": [
    {
     "name": "stdout",
     "output_type": "stream",
     "text": [
      "('name', ['Anita', 'Emefa', 'Henry', 'Yayra', 'Etonarm', 'Eugene'])\n"
     ]
    }
   ],
   "source": [
    "# 21 popitem method in dictionary \n",
    "\n",
    "print(students.popitem())"
   ]
  },
  {
   "cell_type": "code",
   "execution_count": 33,
   "id": "5a4ae46a",
   "metadata": {},
   "outputs": [
    {
     "data": {
      "text/plain": [
       "'Fashion'"
      ]
     },
     "execution_count": 33,
     "metadata": {},
     "output_type": "execute_result"
    }
   ],
   "source": [
    "# 22 setdefault method in dictionary \n",
    "students.setdefault('department','Fashion')"
   ]
  },
  {
   "cell_type": "code",
   "execution_count": 34,
   "id": "84ced51f",
   "metadata": {},
   "outputs": [
    {
     "data": {
      "text/plain": [
       "{'Rita': 'Eugnenia', 'department': 'Fashion'}"
      ]
     },
     "execution_count": 34,
     "metadata": {},
     "output_type": "execute_result"
    }
   ],
   "source": [
    "students"
   ]
  }
 ],
 "metadata": {
  "hide_input": false,
  "kernelspec": {
   "display_name": "Python 3 (ipykernel)",
   "language": "python",
   "name": "python3"
  },
  "language_info": {
   "codemirror_mode": {
    "name": "ipython",
    "version": 3
   },
   "file_extension": ".py",
   "mimetype": "text/x-python",
   "name": "python",
   "nbconvert_exporter": "python",
   "pygments_lexer": "ipython3",
   "version": "3.7.8"
  },
  "toc": {
   "base_numbering": 1,
   "nav_menu": {},
   "number_sections": true,
   "sideBar": true,
   "skip_h1_title": false,
   "title_cell": "Table of Contents",
   "title_sidebar": "Contents",
   "toc_cell": false,
   "toc_position": {},
   "toc_section_display": true,
   "toc_window_display": false
  }
 },
 "nbformat": 4,
 "nbformat_minor": 5
}
